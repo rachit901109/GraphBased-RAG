{
 "cells": [
  {
   "cell_type": "code",
   "execution_count": 8,
   "id": "a262b55d-358f-4833-baf1-1080657f7945",
   "metadata": {},
   "outputs": [],
   "source": [
    "import json\n",
    "import os\n",
    "from py2neo import Graph, Node, Relationship"
   ]
  },
  {
   "cell_type": "code",
   "execution_count": 9,
   "id": "f45f3449-cb42-45da-9a81-0b041179bd1b",
   "metadata": {},
   "outputs": [],
   "source": [
    "profile_dir = r\"out_profile\"\n",
    "post_dir = r\"out_post\"\n",
    "\n",
    "files = [\"acm\", \"antariksh\", \"arya\", \"astra\", \"codestars\", \"compute\", \"djscsi\", \"ecell\", \"gdsc\", \"iete\", \"init\", \"isaca\", \"isme\", \"karting\", \"miles\", \"nova\", \"panache\", \"ras\", \"robocon\", \"s4ds\", \"sigai\", \"speedsters\", \"synapse\", \"unicode\"]"
   ]
  },
  {
   "cell_type": "code",
   "execution_count": 10,
   "id": "df49125e-ca9b-45b7-9a66-92ff952b6a28",
   "metadata": {},
   "outputs": [],
   "source": [
    "from dotenv import load_dotenv\n",
    "\n",
    "load_dotenv()\n",
    "\n",
    "URI = os.environ.get(\"NEO4J_URI\")\n",
    "USERNAME = os.environ.get(\"NEO4J_USERNAME\")\n",
    "PASSWORD = os.environ.get(\"NEO4J_PASSWORD\")"
   ]
  },
  {
   "cell_type": "code",
   "execution_count": 11,
   "id": "9587d203-8ba5-4dda-9657-0762a0661ce4",
   "metadata": {},
   "outputs": [],
   "source": [
    "graph = Graph(URI, auth=(USERNAME, PASSWORD))"
   ]
  },
  {
   "cell_type": "code",
   "execution_count": 12,
   "id": "8ba21d96-330b-46ca-9e55-f1b8ed0672b1",
   "metadata": {},
   "outputs": [],
   "source": [
    "com_acc_ids = []\n",
    "\n",
    "for file in files:\n",
    "    profilefile = os.path.join(profile_dir, file)\n",
    "    profilefile += '.json'\n",
    "    \n",
    "    with open(profilefile, 'r', encoding='utf-8') as f:\n",
    "        profile_data = json.load(f)\n",
    "\n",
    "    com_acc_ids.append(profile_data[\"id\"])"
   ]
  },
  {
   "cell_type": "code",
   "execution_count": 13,
   "id": "9a8d2a3a-225d-4f43-b8d2-616ea0fe4fe1",
   "metadata": {},
   "outputs": [
    {
     "data": {
      "text/plain": [
       "24"
      ]
     },
     "execution_count": 13,
     "metadata": {},
     "output_type": "execute_result"
    }
   ],
   "source": [
    "len(com_acc_ids)"
   ]
  },
  {
   "cell_type": "code",
   "execution_count": 15,
   "id": "a99ab491-f086-42eb-98c4-e428c375312f",
   "metadata": {},
   "outputs": [
    {
     "name": "stdout",
     "output_type": "stream",
     "text": [
      "All committee nodes have been created.\n"
     ]
    }
   ],
   "source": [
    "# create all the committee nodes\n",
    "for file in files:\n",
    "    profilefile = os.path.join(profile_dir, file)\n",
    "    profilefile += '.json'\n",
    "    \n",
    "    with open(profilefile, 'r', encoding='utf-8') as f:\n",
    "        profile_data = json.load(f)\n",
    "    \n",
    "    # Create and add the committee node\n",
    "    committee = Node(\"Committee\",\n",
    "                     id=profile_data['id'],\n",
    "                     username=profile_data['username'],\n",
    "                     full_name=profile_data['full_name'],\n",
    "                     bio=profile_data['bio'],\n",
    "                     num_followers=profile_data['num_followers'],\n",
    "                     num_following=profile_data['num_following'],\n",
    "                     highlight_reel_count=profile_data['highlight_rell_count'],\n",
    "                     num_posts=profile_data['num_posts'],\n",
    "                     category=profile_data['category'])\n",
    "    \n",
    "    graph.create(committee)\n",
    "    \n",
    "print(\"All committee nodes have been created.\")"
   ]
  },
  {
   "cell_type": "code",
   "execution_count": 16,
   "id": "18c62abb-39b5-46b1-b051-d94b2deda38a",
   "metadata": {},
   "outputs": [
    {
     "name": "stdout",
     "output_type": "stream",
     "text": [
      "Followers and posts for djsanghvi_acm have been successfully added.\n",
      "Followers and posts for djs_antariksh have been successfully added.\n",
      "Followers and posts for djs_arya have been successfully added.\n",
      "Followers and posts for djs.astra have been successfully added.\n",
      "Followers and posts for djsce_codestars have been successfully added.\n",
      "Followers and posts for djscompute have been successfully added.\n",
      "Followers and posts for djcsi have been successfully added.\n",
      "Followers and posts for ecell_djsce have been successfully added.\n",
      "Followers and posts for gdsc.djsce have been successfully added.\n",
      "Followers and posts for djsce_iete have been successfully added.\n",
      "Followers and posts for djinit.ai have been successfully added.\n",
      "Followers and posts for djsisaca have been successfully added.\n",
      "Followers and posts for djsce_isme have been successfully added.\n",
      "Followers and posts for djskartingindia have been successfully added.\n",
      "Followers and posts for djs_miles have been successfully added.\n",
      "Followers and posts for djs.nova have been successfully added.\n",
      "Followers and posts for panache.djsce have been successfully added.\n",
      "Followers and posts for djsce_ras have been successfully added.\n",
      "Followers and posts for djs_robocon have been successfully added.\n",
      "Followers and posts for djs.s4ds have been successfully added.\n",
      "Followers and posts for djs.sigai have been successfully added.\n",
      "Followers and posts for djs_speedsters have been successfully added.\n",
      "Followers and posts for synapse.djsce have been successfully added.\n",
      "Followers and posts for djunicode have been successfully added.\n"
     ]
    }
   ],
   "source": [
    "# add followers and posts\n",
    "for file in files:\n",
    "    profilefile = os.path.join(profile_dir, file)\n",
    "    profilefile += '.json'\n",
    "    \n",
    "    with open(profilefile, 'r', encoding='utf-8') as f:\n",
    "        profile_data = json.load(f)\n",
    "\n",
    "    postfile = os.path.join(post_dir, file)\n",
    "    postfile += '.json'\n",
    "    \n",
    "    with open(postfile, 'r', encoding='utf-8') as f:\n",
    "        posts_data = json.load(f)\n",
    "    \n",
    "    committee = graph.nodes.match(\"Committee\", id=profile_data['id']).first()\n",
    "    \n",
    "    # Create Follower relationships or link to other committee nodes\n",
    "    for follower in profile_data['followers']:\n",
    "        if follower['id'] in com_acc_ids:\n",
    "            # Follower is a committee, create a relationship\n",
    "            follower_node = graph.nodes.match(\"Committee\", id=follower['id']).first()\n",
    "        else:\n",
    "            # Follower is not a committee, create a Follower node\n",
    "            follower_node = Node(\"Follower\", id=follower['id'], username=follower['username'])\n",
    "            graph.create(follower_node)\n",
    "        \n",
    "        follows_rel = Relationship(follower_node, \"FOLLOWS\", committee)\n",
    "        graph.create(follows_rel)\n",
    "    \n",
    "    # Create Post nodes and relationships\n",
    "    for post in posts_data:\n",
    "        post_attributes = {\n",
    "            'id': post['id'],\n",
    "            'type': post['type'],\n",
    "            'comments': post['comments'],\n",
    "            'likes': post['likes'],\n",
    "            'time_taken': post['time_taken']\n",
    "        }\n",
    "        \n",
    "        # Add caption if it exists\n",
    "        if 'caption' in post and post['caption']:\n",
    "            post_attributes['caption'] = post['caption']\n",
    "        \n",
    "        # Add type-specific attributes\n",
    "        if post['type'] == 'GraphSidecar':\n",
    "            post_attributes['num_children'] = post.get('num_children', 0)\n",
    "        elif post['type'] == 'GraphVideo':\n",
    "            post_attributes['views'] = post.get('views', 0)\n",
    "        \n",
    "        post_node = Node(\"Post\", **post_attributes)\n",
    "        posted_rel = Relationship(committee, \"POSTED\", post_node)\n",
    "        graph.create(post_node)\n",
    "        graph.create(posted_rel)\n",
    "    \n",
    "    print(f\"Followers and posts for {profile_data['username']} have been successfully added.\")\n"
   ]
  },
  {
   "cell_type": "code",
   "execution_count": 17,
   "id": "cda67579-9e59-455a-9b30-5d95c562ff18",
   "metadata": {},
   "outputs": [
    {
     "name": "stdout",
     "output_type": "stream",
     "text": [
      "this is taking long\n"
     ]
    }
   ],
   "source": [
    "print(\"this is taking long\")"
   ]
  },
  {
   "cell_type": "code",
   "execution_count": null,
   "id": "c2a5b37c-c9ba-4455-8676-2f71044a664d",
   "metadata": {},
   "outputs": [],
   "source": []
  }
 ],
 "metadata": {
  "kernelspec": {
   "display_name": "Python 3 (ipykernel)",
   "language": "python",
   "name": "python3"
  },
  "language_info": {
   "codemirror_mode": {
    "name": "ipython",
    "version": 3
   },
   "file_extension": ".py",
   "mimetype": "text/x-python",
   "name": "python",
   "nbconvert_exporter": "python",
   "pygments_lexer": "ipython3",
   "version": "3.10.8"
  }
 },
 "nbformat": 4,
 "nbformat_minor": 5
}
