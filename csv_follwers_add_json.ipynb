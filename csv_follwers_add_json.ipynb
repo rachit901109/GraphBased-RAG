{
 "cells": [
  {
   "cell_type": "code",
   "execution_count": 21,
   "id": "fd78df7c-0351-4d71-a15a-6f25c56eea2c",
   "metadata": {},
   "outputs": [],
   "source": [
    "import json\n",
    "import pandas as pd\n",
    "import os\n",
    "from datetime import datetime"
   ]
  },
  {
   "cell_type": "code",
   "execution_count": 17,
   "id": "a04f1c79-bd3b-45c6-a00e-48e3fc0073b8",
   "metadata": {},
   "outputs": [],
   "source": [
    "csv_dir = r\"csv\"\n",
    "json_dir = r\"web_profile_json\"\n",
    "output_profile = r\"out_profile\"\n",
    "output_post = r\"out_post\"\n",
    "\n",
    "files = [\"acm\", \"antariksh\", \"arya\", \"astra\", \"codestars\", \"compute\", \"djscsi\", \"ecell\", \"gdsc\", \"iete\", \"init\", \"isaca\", \"isme\", \"karting\", \"miles\", \"nova\", \"panache\", \"ras\", \"robocon\", \"s4ds\", \"sigai\", \"speedsters\", \"synapse\", \"unicode\"]"
   ]
  },
  {
   "cell_type": "code",
   "execution_count": 28,
   "id": "b4601dcd-b662-45a0-8959-f2eba1f82bbf",
   "metadata": {},
   "outputs": [],
   "source": [
    "def get_followers(file):\n",
    "    file_name = os.path.join(csv_dir, file)\n",
    "    file_name+='.csv'\n",
    "\n",
    "    df = pd.read_csv(file_name)\n",
    "    followers = []\n",
    "    for index, row in df.iterrows():\n",
    "        temp = {}\n",
    "        temp[\"id\"] = str(row.id)\n",
    "        temp[\"username\"] = row.username\n",
    "    \n",
    "        followers.append(temp)\n",
    "\n",
    "    return followers"
   ]
  },
  {
   "cell_type": "code",
   "execution_count": 29,
   "id": "fe51d988-1bdc-4a6e-a8a4-7c3d951ba077",
   "metadata": {},
   "outputs": [
    {
     "name": "stdout",
     "output_type": "stream",
     "text": [
      "acm profile json saved.\n",
      "acm post json saved.\n",
      "antariksh profile json saved.\n",
      "antariksh post json saved.\n",
      "arya profile json saved.\n",
      "arya post json saved.\n",
      "astra profile json saved.\n",
      "astra post json saved.\n",
      "codestars profile json saved.\n",
      "codestars post json saved.\n",
      "compute profile json saved.\n",
      "compute post json saved.\n",
      "djscsi profile json saved.\n",
      "djscsi post json saved.\n",
      "ecell profile json saved.\n",
      "ecell post json saved.\n",
      "gdsc profile json saved.\n",
      "gdsc post json saved.\n",
      "iete profile json saved.\n",
      "iete post json saved.\n",
      "init profile json saved.\n",
      "init post json saved.\n",
      "isaca profile json saved.\n",
      "isaca post json saved.\n",
      "isme profile json saved.\n",
      "isme post json saved.\n",
      "karting profile json saved.\n",
      "karting post json saved.\n",
      "miles profile json saved.\n",
      "miles post json saved.\n",
      "nova profile json saved.\n",
      "nova post json saved.\n",
      "panache profile json saved.\n",
      "panache post json saved.\n",
      "ras profile json saved.\n",
      "ras post json saved.\n",
      "robocon profile json saved.\n",
      "robocon post json saved.\n",
      "s4ds profile json saved.\n",
      "s4ds post json saved.\n",
      "sigai profile json saved.\n",
      "sigai post json saved.\n",
      "speedsters profile json saved.\n",
      "speedsters post json saved.\n",
      "synapse profile json saved.\n",
      "synapse post json saved.\n",
      "unicode profile json saved.\n",
      "unicode post json saved.\n",
      "CPU times: total: 1.19 s\n",
      "Wall time: 1.8 s\n"
     ]
    }
   ],
   "source": [
    "%%time\n",
    "for file in files:\n",
    "    req_profile_data = dict()\n",
    "    \n",
    "    followers = get_followers(file)\n",
    "    req_profile_data['followers'] = followers\n",
    "\n",
    "    file_name = os.path.join(json_dir, file)\n",
    "    file_name+='.json'\n",
    "\n",
    "    with open(file_name, 'r', encoding=\"utf-8\") as f:\n",
    "        data = json.load(f)\n",
    "\n",
    "    req_profile_data['id'] = data['data']['user']['id']\n",
    "    req_profile_data['bio'] = data['data']['user']['biography'].encode('latin1').decode('utf-8')\n",
    "    req_profile_data['num_followers'] = data['data']['user']['edge_followed_by']['count']\n",
    "    req_profile_data['num_following'] = data['data']['user']['edge_follow']['count']\n",
    "    req_profile_data['username'] = data['data']['user']['username'].encode('latin1').decode('utf-8')\n",
    "    req_profile_data['full_name'] = data['data']['user']['full_name'].encode('latin1').decode('utf-8')\n",
    "    req_profile_data['highlight_rell_count'] = data['data']['user']['highlight_reel_count']\n",
    "    req_profile_data['num_posts'] = data['data']['user']['edge_owner_to_timeline_media']['count']\n",
    "    req_profile_data['category'] = data['data']['user']['category_name']\n",
    "\n",
    "    output_file = os.path.join(output_profile, file)\n",
    "    output_file+='.json'\n",
    "\n",
    "    with open(output_file, 'w', encoding='utf-8') as f:\n",
    "        json.dump(req_profile_data, f, indent=4)\n",
    "\n",
    "    print(f\"{file} profile json saved.\")\n",
    "    \n",
    "    req_post_json = []\n",
    "    for post in data['data']['user']['edge_owner_to_timeline_media']['edges']:\n",
    "        temp = {}\n",
    "        temp['id'] = post['node']['id']\n",
    "        temp['type'] = post['node']['__typename']\n",
    "        temp['comments'] = post['node']['edge_media_to_comment']['count']\n",
    "        temp['likes'] = post['node']['edge_liked_by']['count']\n",
    "        temp['time_taken'] = datetime.fromtimestamp(post['node']['taken_at_timestamp']).strftime('%d-%m-%y %H:%M:%S')\n",
    "        if len(post['node']['edge_media_to_caption']['edges'])>0:\n",
    "            temp['caption'] = post['node']['edge_media_to_caption']['edges'][0]['node']['text'].encode('latin1').decode('utf-8')\n",
    "        \n",
    "        if post['node']['__typename'] == 'GraphSidecar':\n",
    "            temp['num_children'] = len(post['node']['edge_sidecar_to_children']['edges'])\n",
    "        elif post['node']['__typename'] == 'GraphVideo':\n",
    "            temp['views'] = post['node']['video_view_count']\n",
    "\n",
    "        req_post_json.append(temp)\n",
    "\n",
    "    output_file = os.path.join(output_post, file)\n",
    "    output_file+='.json'\n",
    "    \n",
    "    with open(output_file, 'w', encoding='utf-8') as f:\n",
    "        json.dump(req_post_json, f, indent=4)\n",
    "\n",
    "    print(f\"{file} post json saved.\")"
   ]
  },
  {
   "cell_type": "code",
   "execution_count": null,
   "id": "36cfaecf-010d-40f5-b624-b6e5dcc41ecc",
   "metadata": {},
   "outputs": [],
   "source": [
    "#### Practice cells below "
   ]
  },
  {
   "cell_type": "code",
   "execution_count": 8,
   "id": "6127a8e6-de60-4b33-af23-5c0663433685",
   "metadata": {},
   "outputs": [],
   "source": [
    "df = pd.read_csv(file)"
   ]
  },
  {
   "cell_type": "code",
   "execution_count": 23,
   "id": "6ede7539-c1f8-4a93-891e-8543495429a9",
   "metadata": {},
   "outputs": [
    {
     "data": {
      "text/plain": [
       "Index(['id', 'profile_pic_url', 'username', 'full_name', 'biography',\n",
       "       'highlight_reel_count', 'edge_owner_to_timeline_media.count',\n",
       "       'external_url', 'edge_followed_by.count', 'edge_follow.count',\n",
       "       'followRatio', 'edge_mutual_followed_by.count', 'followed_by_viewer',\n",
       "       'follows_viewer', 'requested_by_viewer', 'is_joined_recently',\n",
       "       'is_private', 'is_verified', 'business_category_name', 'pronouns',\n",
       "       'lastPostDateInDays', 'contact_phone_number', 'public_email',\n",
       "       'address_street', 'city_name', 'zip', 'latitude', 'longitude',\n",
       "       'languageName'],\n",
       "      dtype='object')"
      ]
     },
     "execution_count": 23,
     "metadata": {},
     "output_type": "execute_result"
    }
   ],
   "source": [
    "df.columns"
   ]
  },
  {
   "cell_type": "code",
   "execution_count": 25,
   "id": "31fcd7f2-bf20-4422-811f-4afc9f8acfff",
   "metadata": {},
   "outputs": [],
   "source": [
    "followers = []"
   ]
  },
  {
   "cell_type": "code",
   "execution_count": 26,
   "id": "bb211d78-b6c9-4586-8e88-91d3a31230b5",
   "metadata": {},
   "outputs": [],
   "source": [
    "for index, row in df.iterrows():\n",
    "    temp = {}\n",
    "    temp[\"id\"] = row.id\n",
    "    temp[\"username\"] = row.username\n",
    "\n",
    "    followers.append(temp)"
   ]
  },
  {
   "cell_type": "code",
   "execution_count": 27,
   "id": "13319c08-c21e-4906-a821-6646444043a2",
   "metadata": {},
   "outputs": [],
   "source": [
    "from pprint import pprint"
   ]
  },
  {
   "cell_type": "code",
   "execution_count": 33,
   "id": "332a4367-9b58-4a37-8fb5-8b6c8a2d3783",
   "metadata": {},
   "outputs": [],
   "source": [
    "json_dir = r\"web_profile_json\"\n",
    "json_file = \"acm.json\"\n",
    "\n",
    "file = os.path.join(json_dir, json_file)"
   ]
  },
  {
   "cell_type": "code",
   "execution_count": 34,
   "id": "9a836888-b42f-4104-bb60-d996f59dff28",
   "metadata": {},
   "outputs": [],
   "source": [
    "with open(file, 'r', encoding=\"utf-8\") as f:\n",
    "    data = json.load(f)"
   ]
  },
  {
   "cell_type": "code",
   "execution_count": 41,
   "id": "73982dda-215b-45bc-b3ed-e205bcb1565f",
   "metadata": {},
   "outputs": [],
   "source": [
    "data[\"data\"][\"user\"][\"followers\"]=followers"
   ]
  },
  {
   "cell_type": "code",
   "execution_count": 47,
   "id": "60c3f3a6-6d1b-4c8c-bd07-5e2ad11933c4",
   "metadata": {},
   "outputs": [],
   "source": [
    "bio = data[\"data\"][\"user\"]['biography'].encode('latin1').decode('utf8')"
   ]
  },
  {
   "cell_type": "code",
   "execution_count": null,
   "id": "4fe0a588-7bf8-4725-9b77-9547ff074cca",
   "metadata": {},
   "outputs": [],
   "source": []
  }
 ],
 "metadata": {
  "kernelspec": {
   "display_name": "Python 3 (ipykernel)",
   "language": "python",
   "name": "python3"
  },
  "language_info": {
   "codemirror_mode": {
    "name": "ipython",
    "version": 3
   },
   "file_extension": ".py",
   "mimetype": "text/x-python",
   "name": "python",
   "nbconvert_exporter": "python",
   "pygments_lexer": "ipython3",
   "version": "3.10.8"
  }
 },
 "nbformat": 4,
 "nbformat_minor": 5
}
