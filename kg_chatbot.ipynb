{
 "cells": [
  {
   "cell_type": "code",
   "execution_count": 19,
   "id": "47705a77-a09b-434e-a000-a28613164638",
   "metadata": {},
   "outputs": [],
   "source": [
    "import os\n",
    "from langchain_community.graphs import Neo4jGraph\n",
    "from langchain_groq import ChatGroq\n",
    "from langchain.chains import GraphCypherQAChain"
   ]
  },
  {
   "cell_type": "code",
   "execution_count": 16,
   "id": "a0db8b0f-a779-47a1-b059-f4b4ec18d8af",
   "metadata": {},
   "outputs": [],
   "source": [
    "from dotenv import load_dotenv\n",
    "\n",
    "load_dotenv()\n",
    "\n",
    "URI = os.environ.get(\"NEO4J_URI\")\n",
    "USERNAME = os.environ.get(\"NEO4J_USERNAME\")\n",
    "PASSWORD = os.environ.get(\"NEO4J_PASSWORD\")\n",
    "GROQ_API_KEY=os.environ.get(\"GROQ_API_KEY\")"
   ]
  },
  {
   "cell_type": "code",
   "execution_count": 7,
   "id": "8cbb7435-a98a-40d1-b491-9f293537e6ec",
   "metadata": {},
   "outputs": [],
   "source": [
    "graph = Neo4jGraph(url=URI, username=USERNAME, password=PASSWORD)"
   ]
  },
  {
   "cell_type": "code",
   "execution_count": 10,
   "id": "54b5dc65-852f-4974-9059-0e48b10ed57e",
   "metadata": {},
   "outputs": [
    {
     "name": "stdout",
     "output_type": "stream",
     "text": [
      "Node properties:\n",
      "Committee {id: STRING, full_name: STRING, highlight_reel_count: INTEGER, bio: STRING, num_followers: INTEGER, num_posts: INTEGER, category: STRING, num_following: INTEGER, username: STRING}\n",
      "Follower {id: STRING, username: STRING}\n",
      "Post {id: STRING, comments: INTEGER, caption: STRING, type: STRING, time_taken: STRING, likes: INTEGER, num_children: INTEGER, views: INTEGER}\n",
      "Relationship properties:\n",
      "\n",
      "The relationships:\n",
      "(:Committee)-[:POSTED]->(:Post)\n",
      "(:Committee)-[:FOLLOWS]->(:Committee)\n",
      "(:Follower)-[:FOLLOWS]->(:Committee)\n"
     ]
    }
   ],
   "source": [
    "print(graph.schema)"
   ]
  },
  {
   "cell_type": "code",
   "execution_count": 26,
   "id": "ec6b9515-3ec5-4c9b-85fe-cca76251c0a1",
   "metadata": {},
   "outputs": [],
   "source": [
    "llm=ChatGroq(groq_api_key=GROQ_API_KEY, model_name=\"gemma2-9b-it\")"
   ]
  },
  {
   "cell_type": "code",
   "execution_count": 27,
   "id": "c2097455-be5b-43a3-bada-3d2fe8f0681f",
   "metadata": {},
   "outputs": [],
   "source": [
    "chain=GraphCypherQAChain.from_llm(llm=llm,graph=graph,verbose=True)"
   ]
  },
  {
   "cell_type": "code",
   "execution_count": 28,
   "id": "bf27a2a3-1be9-436b-82b6-c023b0eb193f",
   "metadata": {},
   "outputs": [
    {
     "name": "stdout",
     "output_type": "stream",
     "text": [
      "\n",
      "\n",
      "\u001b[1m> Entering new GraphCypherQAChain chain...\u001b[0m\n",
      "Generated Cypher:\n",
      "\u001b[32;1m\u001b[1;3mMATCH (c:Committee {username: \"djcsi\"}) RETURN c \n",
      "\u001b[0m\n",
      "Full Context:\n",
      "\u001b[32;1m\u001b[1;3m[{'c': {'full_name': 'CSI-DJSCE', 'highlight_reel_count': 24, 'bio': 'Student Chapter of Computer Society of India \\nD.J. Sanghvi College of Engineering', 'num_followers': 1899, 'num_posts': 380, 'id': '1507035408', 'category': 'Community', 'num_following': 30, 'username': 'djcsi'}}]\u001b[0m\n",
      "\n",
      "\u001b[1m> Finished chain.\u001b[0m\n"
     ]
    }
   ],
   "source": [
    "response=chain.invoke({\"query\":\"Give me information about djcsi committee account.\"})"
   ]
  },
  {
   "cell_type": "code",
   "execution_count": 30,
   "id": "1e879b06-3b4a-4b93-b20f-8683148bf79a",
   "metadata": {},
   "outputs": [
    {
     "name": "stdout",
     "output_type": "stream",
     "text": [
      "The djcsi committee account is the Student Chapter of Computer Society of India at D.J. Sanghvi College of Engineering.  They have 1899 followers and have posted 380 times.  \n",
      "\n"
     ]
    }
   ],
   "source": [
    "print(response['result'])"
   ]
  },
  {
   "cell_type": "code",
   "execution_count": 37,
   "id": "f082a892-6fc1-4701-ab5f-ac3bfef0d512",
   "metadata": {},
   "outputs": [
    {
     "name": "stdout",
     "output_type": "stream",
     "text": [
      "\n",
      "\n",
      "\u001b[1m> Entering new GraphCypherQAChain chain...\u001b[0m\n",
      "Generated Cypher:\n",
      "\u001b[32;1m\u001b[1;3mMATCH (c:Committee {username: 'djs.sigai'})<-[:FOLLOWS]-(f:Follower)\n",
      "RETURN f.username LIMIT 10  \n",
      "\u001b[0m\n",
      "Full Context:\n",
      "\u001b[32;1m\u001b[1;3m[{'f.username': 'kartikk14_'}, {'f.username': 'therudra1064'}, {'f.username': 'devvvv_2607'}, {'f.username': 'mithilesh.shirawle08'}, {'f.username': 'shubham.khichaa'}, {'f.username': '_vansh_mandot_'}, {'f.username': 'mahekkk_02'}, {'f.username': 'parth.sangani_'}, {'f.username': 'nabhijkharade'}, {'f.username': 'kajalsandeep'}]\u001b[0m\n",
      "\n",
      "\u001b[1m> Finished chain.\u001b[0m\n",
      "kartikk14_, therudra1064, devvvv_2607, mithilesh.shirawle08, shubham.khichaa, _vansh_mandot_, mahekkk_02, parth.sangani_, nabhijkharade, kajalsandeep \n",
      "\n"
     ]
    }
   ],
   "source": [
    "response=chain.invoke({\"query\":\"Please provide me with the usernames of the ten djs.sigai committee account followers.\"})\n",
    "print(response['result'])"
   ]
  },
  {
   "cell_type": "code",
   "execution_count": 56,
   "id": "7dca3266-7f44-4bf4-a2bd-1436e4f370b9",
   "metadata": {},
   "outputs": [
    {
     "name": "stdout",
     "output_type": "stream",
     "text": [
      "\n",
      "\n",
      "\u001b[1m> Entering new GraphCypherQAChain chain...\u001b[0m\n",
      "Generated Cypher:\n",
      "\u001b[32;1m\u001b[1;3mMATCH (c:Committee {username:'djs.s4ds'})-[:POSTED]->(p:Post)\n",
      "RETURN DISTINCT p.type , count(p)  \n",
      "AS post_type_count\n",
      "ORDER BY post_type_count DESC\n",
      "\u001b[0m\n",
      "Full Context:\n",
      "\u001b[32;1m\u001b[1;3m[{'p.type': 'GraphSidecar', 'post_type_count': 6}, {'p.type': 'GraphVideo', 'post_type_count': 3}, {'p.type': 'GraphImage', 'post_type_count': 3}]\u001b[0m\n",
      "\n",
      "\u001b[1m> Finished chain.\u001b[0m\n",
      "GraphSidecar has 6 posts, GraphVideo has 3 posts, and GraphImage has 3 posts.  \n",
      "\n"
     ]
    }
   ],
   "source": [
    "response=chain.invoke({\"query\":\"Give count of different type of post made by djs.s4ds committee.\"})\n",
    "print(response['result'])"
   ]
  },
  {
   "cell_type": "code",
   "execution_count": null,
   "id": "aad010ba-6257-4cb9-b6cd-7a829e56472c",
   "metadata": {},
   "outputs": [],
   "source": []
  },
  {
   "cell_type": "code",
   "execution_count": null,
   "id": "f5c18c94-9d50-4fca-9b22-2beee3c5dcfb",
   "metadata": {},
   "outputs": [],
   "source": []
  }
 ],
 "metadata": {
  "kernelspec": {
   "display_name": "Python 3 (ipykernel)",
   "language": "python",
   "name": "python3"
  },
  "language_info": {
   "codemirror_mode": {
    "name": "ipython",
    "version": 3
   },
   "file_extension": ".py",
   "mimetype": "text/x-python",
   "name": "python",
   "nbconvert_exporter": "python",
   "pygments_lexer": "ipython3",
   "version": "3.10.8"
  }
 },
 "nbformat": 4,
 "nbformat_minor": 5
}
